{
 "cells": [
  {
   "cell_type": "code",
   "execution_count": 123,
   "metadata": {},
   "outputs": [
    {
     "data": {
      "text/html": [
       "<div>\n",
       "<style scoped>\n",
       "    .dataframe tbody tr th:only-of-type {\n",
       "        vertical-align: middle;\n",
       "    }\n",
       "\n",
       "    .dataframe tbody tr th {\n",
       "        vertical-align: top;\n",
       "    }\n",
       "\n",
       "    .dataframe thead th {\n",
       "        text-align: right;\n",
       "    }\n",
       "</style>\n",
       "<table border=\"1\" class=\"dataframe\">\n",
       "  <thead>\n",
       "    <tr style=\"text-align: right;\">\n",
       "      <th></th>\n",
       "      <th>ID</th>\n",
       "      <th>Place</th>\n",
       "      <th>location</th>\n",
       "      <th>date</th>\n",
       "      <th>status</th>\n",
       "      <th>job_title</th>\n",
       "      <th>summary</th>\n",
       "      <th>positives</th>\n",
       "      <th>negatives</th>\n",
       "      <th>advice_to_mgmt</th>\n",
       "      <th>score_1</th>\n",
       "      <th>score_2</th>\n",
       "      <th>score_3</th>\n",
       "      <th>score_4</th>\n",
       "      <th>score_5</th>\n",
       "      <th>score_6</th>\n",
       "      <th>overall</th>\n",
       "    </tr>\n",
       "  </thead>\n",
       "  <tbody>\n",
       "    <tr>\n",
       "      <th>0</th>\n",
       "      <td>1</td>\n",
       "      <td>startup_1</td>\n",
       "      <td>NaN</td>\n",
       "      <td>Dec 11, 2018</td>\n",
       "      <td>Current Employee</td>\n",
       "      <td>Anonymous Employee</td>\n",
       "      <td>Best Company to work for</td>\n",
       "      <td>People are smart and friendly</td>\n",
       "      <td>Bureaucracy is slowing things down</td>\n",
       "      <td>NaN</td>\n",
       "      <td>4.0</td>\n",
       "      <td>5.0</td>\n",
       "      <td>5.0</td>\n",
       "      <td>4.0</td>\n",
       "      <td>5.0</td>\n",
       "      <td>0</td>\n",
       "      <td>5.0</td>\n",
       "    </tr>\n",
       "    <tr>\n",
       "      <th>1</th>\n",
       "      <td>2</td>\n",
       "      <td>startup_1</td>\n",
       "      <td>Mountain View, CA</td>\n",
       "      <td>Jun 21, 2013</td>\n",
       "      <td>Former Employee</td>\n",
       "      <td>Program Manager</td>\n",
       "      <td>Moving at the speed of light, burn out is inev...</td>\n",
       "      <td>1) Food, food, food. 15+ cafes on main campus ...</td>\n",
       "      <td>1) Work/life balance. What balance? All those ...</td>\n",
       "      <td>1) Don't dismiss emotional intelligence and ad...</td>\n",
       "      <td>2.0</td>\n",
       "      <td>3.0</td>\n",
       "      <td>3.0</td>\n",
       "      <td>5.0</td>\n",
       "      <td>3.0</td>\n",
       "      <td>2094</td>\n",
       "      <td>5.0</td>\n",
       "    </tr>\n",
       "  </tbody>\n",
       "</table>\n",
       "</div>"
      ],
      "text/plain": [
       "   ID      Place           location           date             status  \\\n",
       "0   1  startup_1                NaN   Dec 11, 2018  Current Employee    \n",
       "1   2  startup_1  Mountain View, CA   Jun 21, 2013   Former Employee    \n",
       "\n",
       "             job_title                                            summary  \\\n",
       "0   Anonymous Employee                           Best Company to work for   \n",
       "1      Program Manager  Moving at the speed of light, burn out is inev...   \n",
       "\n",
       "                                           positives  \\\n",
       "0                      People are smart and friendly   \n",
       "1  1) Food, food, food. 15+ cafes on main campus ...   \n",
       "\n",
       "                                           negatives  \\\n",
       "0                 Bureaucracy is slowing things down   \n",
       "1  1) Work/life balance. What balance? All those ...   \n",
       "\n",
       "                                      advice_to_mgmt  score_1  score_2  \\\n",
       "0                                                NaN      4.0      5.0   \n",
       "1  1) Don't dismiss emotional intelligence and ad...      2.0      3.0   \n",
       "\n",
       "   score_3  score_4  score_5  score_6  overall  \n",
       "0      5.0      4.0      5.0        0      5.0  \n",
       "1      3.0      5.0      3.0     2094      5.0  "
      ]
     },
     "execution_count": 123,
     "metadata": {},
     "output_type": "execute_result"
    }
   ],
   "source": [
    "import pandas as pd\n",
    "import numpy as np\n",
    "data=pd.read_csv('train.csv')\n",
    "data.head(2)"
   ]
  },
  {
   "cell_type": "code",
   "execution_count": 124,
   "metadata": {},
   "outputs": [
    {
     "name": "stdout",
     "output_type": "stream",
     "text": [
      "0\n",
      "11254\n",
      "0\n",
      "0\n",
      "0\n",
      "52\n",
      "0\n",
      "0\n",
      "13277\n",
      "3186\n",
      "6050\n",
      "3169\n",
      "3191\n",
      "3485\n",
      "0\n",
      "0\n"
     ]
    }
   ],
   "source": [
    "#### Analysing the data\n",
    "print (data.Place.isnull().sum())          # no null\n",
    "print (data.location.isnull().sum())       # 11254 null entry\n",
    "print (data.date.isnull().sum())           # no null\n",
    "print (data.status.isnull().sum())         # no null\n",
    "print (data.job_title.isnull().sum())      # no null\n",
    "print (data.summary.isnull().sum())        # 52 null entry\n",
    "print (data.positives.isnull().sum())      # no null\n",
    "print (data.negatives.isnull().sum())      # no null\n",
    "print (data.advice_to_mgmt.isnull().sum()) # 13277 null entry  #advice_to_mgmt has more number of null entry we can ditch it\n",
    "print (data.score_1.isnull().sum())        # 3186 null entry\n",
    "print (data.score_2.isnull().sum())        # 6050 null entry\n",
    "print (data.score_3.isnull().sum())        # 3169 null entry\n",
    "print (data.score_4.isnull().sum())        # 3191 null entry\n",
    "print (data.score_5.isnull().sum())        # 3485 null entry\n",
    "print (data.score_6.isnull().sum())        # no null\n",
    "print (data.overall.isnull().sum())        # no null"
   ]
  },
  {
   "cell_type": "code",
   "execution_count": 125,
   "metadata": {},
   "outputs": [
    {
     "data": {
      "text/html": [
       "<div>\n",
       "<style scoped>\n",
       "    .dataframe tbody tr th:only-of-type {\n",
       "        vertical-align: middle;\n",
       "    }\n",
       "\n",
       "    .dataframe tbody tr th {\n",
       "        vertical-align: top;\n",
       "    }\n",
       "\n",
       "    .dataframe thead th {\n",
       "        text-align: right;\n",
       "    }\n",
       "</style>\n",
       "<table border=\"1\" class=\"dataframe\">\n",
       "  <thead>\n",
       "    <tr style=\"text-align: right;\">\n",
       "      <th></th>\n",
       "      <th>summary</th>\n",
       "      <th>positives</th>\n",
       "      <th>negatives</th>\n",
       "      <th>score_1</th>\n",
       "      <th>score_2</th>\n",
       "      <th>score_3</th>\n",
       "      <th>score_4</th>\n",
       "      <th>score_5</th>\n",
       "      <th>score_6</th>\n",
       "      <th>overall</th>\n",
       "    </tr>\n",
       "  </thead>\n",
       "  <tbody>\n",
       "    <tr>\n",
       "      <th>0</th>\n",
       "      <td>Best Company to work for</td>\n",
       "      <td>People are smart and friendly</td>\n",
       "      <td>Bureaucracy is slowing things down</td>\n",
       "      <td>4.0</td>\n",
       "      <td>5.0</td>\n",
       "      <td>5.0</td>\n",
       "      <td>4.0</td>\n",
       "      <td>5.0</td>\n",
       "      <td>0</td>\n",
       "      <td>5.0</td>\n",
       "    </tr>\n",
       "    <tr>\n",
       "      <th>1</th>\n",
       "      <td>Moving at the speed of light, burn out is inev...</td>\n",
       "      <td>1) Food, food, food. 15+ cafes on main campus ...</td>\n",
       "      <td>1) Work/life balance. What balance? All those ...</td>\n",
       "      <td>2.0</td>\n",
       "      <td>3.0</td>\n",
       "      <td>3.0</td>\n",
       "      <td>5.0</td>\n",
       "      <td>3.0</td>\n",
       "      <td>2094</td>\n",
       "      <td>5.0</td>\n",
       "    </tr>\n",
       "  </tbody>\n",
       "</table>\n",
       "</div>"
      ],
      "text/plain": [
       "                                             summary  \\\n",
       "0                           Best Company to work for   \n",
       "1  Moving at the speed of light, burn out is inev...   \n",
       "\n",
       "                                           positives  \\\n",
       "0                      People are smart and friendly   \n",
       "1  1) Food, food, food. 15+ cafes on main campus ...   \n",
       "\n",
       "                                           negatives  score_1  score_2  \\\n",
       "0                 Bureaucracy is slowing things down      4.0      5.0   \n",
       "1  1) Work/life balance. What balance? All those ...      2.0      3.0   \n",
       "\n",
       "   score_3  score_4  score_5  score_6  overall  \n",
       "0      5.0      4.0      5.0        0      5.0  \n",
       "1      3.0      5.0      3.0     2094      5.0  "
      ]
     },
     "execution_count": 125,
     "metadata": {},
     "output_type": "execute_result"
    }
   ],
   "source": [
    "##Droping data that seems to have no contribution for rating prediction(keeping only reviews provided)\n",
    "data=data.drop(['ID','Place','location','date','status','job_title','advice_to_mgmt'],axis=1)\n",
    "#data=data.drop(['ID','Place','summary','location','date','status','job_title','advice_to_mgmt'],axis=1)\n",
    "data.head(2)"
   ]
  },
  {
   "cell_type": "code",
   "execution_count": 126,
   "metadata": {},
   "outputs": [
    {
     "name": "stdout",
     "output_type": "stream",
     "text": [
      "4.0    6830\n",
      "5.0    6362\n",
      "3.0    6238\n",
      "2.0    3540\n",
      "1.0    3220\n",
      "3.5     352\n",
      "4.5     339\n",
      "2.5     203\n",
      "1.5      66\n",
      "Name: score_1, dtype: int64\n",
      "5.0    9736\n",
      "4.0    6103\n",
      "3.0    4154\n",
      "1.0    2223\n",
      "2.0    2070\n",
      "Name: score_2, dtype: int64\n",
      "5.0    8089\n",
      "4.0    7569\n",
      "3.0    5986\n",
      "2.0    2749\n",
      "1.0    2063\n",
      "3.5     298\n",
      "4.5     183\n",
      "2.5     166\n",
      "1.5      64\n",
      "Name: score_3, dtype: int64\n",
      "5.0    9609\n",
      "4.0    8919\n",
      "3.0    5089\n",
      "2.0    1546\n",
      "1.0     887\n",
      "4.5     473\n",
      "3.5     435\n",
      "2.5     161\n",
      "1.5      26\n",
      "Name: score_4, dtype: int64\n",
      "4.0    7039\n",
      "3.0    6173\n",
      "5.0    6018\n",
      "2.0    3576\n",
      "1.0    3481\n",
      "3.5     192\n",
      "2.5     148\n",
      "4.5     145\n",
      "1.5      79\n",
      "Name: score_5, dtype: int64\n",
      "0       20206\n",
      "1        4741\n",
      "2        2040\n",
      "3        1066\n",
      "4         603\n",
      "5         401\n",
      "6         268\n",
      "7         183\n",
      "8         161\n",
      "9         116\n",
      "10         93\n",
      "11         64\n",
      "12         46\n",
      "14         40\n",
      "13         38\n",
      "15         36\n",
      "16         24\n",
      "18         23\n",
      "23         17\n",
      "17         16\n",
      "19         16\n",
      "22         13\n",
      "20         13\n",
      "24         13\n",
      "27          9\n",
      "25          7\n",
      "21          7\n",
      "26          6\n",
      "31          5\n",
      "35          5\n",
      "        ...  \n",
      "42          1\n",
      "1404        1\n",
      "89          1\n",
      "57          1\n",
      "193         1\n",
      "257         1\n",
      "449         1\n",
      "494         1\n",
      "62          1\n",
      "34          1\n",
      "822         1\n",
      "498         1\n",
      "46          1\n",
      "1275        1\n",
      "38          1\n",
      "67          1\n",
      "47          1\n",
      "120         1\n",
      "36          1\n",
      "294         1\n",
      "100         1\n",
      "164         1\n",
      "45          1\n",
      "88          1\n",
      "58          1\n",
      "117         1\n",
      "949         1\n",
      "40          1\n",
      "55          1\n",
      "1759        1\n",
      "Name: score_6, Length: 73, dtype: int64\n"
     ]
    }
   ],
   "source": [
    "##checking the most frequent data entry in out features  \n",
    "#print(data[\"summary\"].value_counts())         ##\"Great company\" has occued 224 times\n",
    "#print(data[\"advice_to_mgmt\"].value_counts())  ##advice_to_mgmt has more number of null entry we can ditch it\n",
    "print(data[\"score_1\"].value_counts())\n",
    "print(data[\"score_2\"].value_counts())\n",
    "print(data[\"score_3\"].value_counts())\n",
    "print(data[\"score_4\"].value_counts())\n",
    "print(data[\"score_5\"].value_counts())\n",
    "print(data[\"score_6\"].value_counts())"
   ]
  },
  {
   "cell_type": "code",
   "execution_count": 128,
   "metadata": {},
   "outputs": [],
   "source": [
    "data['summary']=data['summary'].fillna('Great company')\n",
    "data['score_1']=data['score_1'].fillna(3.0)\n",
    "data['score_2']=data['score_2'].fillna(3.0)\n",
    "data['score_3']=data['score_3'].fillna(3.0)\n",
    "data['score_4']=data['score_4'].fillna(3.0)\n",
    "data['score_5']=data['score_5'].fillna(3.0)\n",
    "data['score_6']=data['score_6'].fillna(3.0)"
   ]
  },
  {
   "cell_type": "code",
   "execution_count": 129,
   "metadata": {},
   "outputs": [
    {
     "data": {
      "text/html": [
       "<div>\n",
       "<style scoped>\n",
       "    .dataframe tbody tr th:only-of-type {\n",
       "        vertical-align: middle;\n",
       "    }\n",
       "\n",
       "    .dataframe tbody tr th {\n",
       "        vertical-align: top;\n",
       "    }\n",
       "\n",
       "    .dataframe thead th {\n",
       "        text-align: right;\n",
       "    }\n",
       "</style>\n",
       "<table border=\"1\" class=\"dataframe\">\n",
       "  <thead>\n",
       "    <tr style=\"text-align: right;\">\n",
       "      <th></th>\n",
       "      <th>summary</th>\n",
       "      <th>positives</th>\n",
       "      <th>negatives</th>\n",
       "      <th>score_1</th>\n",
       "      <th>score_2</th>\n",
       "      <th>score_3</th>\n",
       "      <th>score_4</th>\n",
       "      <th>score_5</th>\n",
       "      <th>score_6</th>\n",
       "      <th>overall</th>\n",
       "    </tr>\n",
       "  </thead>\n",
       "  <tbody>\n",
       "    <tr>\n",
       "      <th>0</th>\n",
       "      <td>Best Company to work for</td>\n",
       "      <td>People are smart and friendly</td>\n",
       "      <td>Bureaucracy is slowing things down</td>\n",
       "      <td>4.0</td>\n",
       "      <td>5.0</td>\n",
       "      <td>5.0</td>\n",
       "      <td>4.0</td>\n",
       "      <td>5.0</td>\n",
       "      <td>0</td>\n",
       "      <td>5.0</td>\n",
       "    </tr>\n",
       "    <tr>\n",
       "      <th>1</th>\n",
       "      <td>Moving at the speed of light, burn out is inev...</td>\n",
       "      <td>1) Food, food, food. 15+ cafes on main campus ...</td>\n",
       "      <td>1) Work/life balance. What balance? All those ...</td>\n",
       "      <td>2.0</td>\n",
       "      <td>3.0</td>\n",
       "      <td>3.0</td>\n",
       "      <td>5.0</td>\n",
       "      <td>3.0</td>\n",
       "      <td>2094</td>\n",
       "      <td>5.0</td>\n",
       "    </tr>\n",
       "  </tbody>\n",
       "</table>\n",
       "</div>"
      ],
      "text/plain": [
       "                                             summary  \\\n",
       "0                           Best Company to work for   \n",
       "1  Moving at the speed of light, burn out is inev...   \n",
       "\n",
       "                                           positives  \\\n",
       "0                      People are smart and friendly   \n",
       "1  1) Food, food, food. 15+ cafes on main campus ...   \n",
       "\n",
       "                                           negatives  score_1  score_2  \\\n",
       "0                 Bureaucracy is slowing things down      4.0      5.0   \n",
       "1  1) Work/life balance. What balance? All those ...      2.0      3.0   \n",
       "\n",
       "   score_3  score_4  score_5  score_6  overall  \n",
       "0      5.0      4.0      5.0        0      5.0  \n",
       "1      3.0      5.0      3.0     2094      5.0  "
      ]
     },
     "execution_count": 129,
     "metadata": {},
     "output_type": "execute_result"
    }
   ],
   "source": [
    "data.head(2)"
   ]
  },
  {
   "cell_type": "code",
   "execution_count": 130,
   "metadata": {},
   "outputs": [
    {
     "data": {
      "text/html": [
       "<div>\n",
       "<style scoped>\n",
       "    .dataframe tbody tr th:only-of-type {\n",
       "        vertical-align: middle;\n",
       "    }\n",
       "\n",
       "    .dataframe tbody tr th {\n",
       "        vertical-align: top;\n",
       "    }\n",
       "\n",
       "    .dataframe thead th {\n",
       "        text-align: right;\n",
       "    }\n",
       "</style>\n",
       "<table border=\"1\" class=\"dataframe\">\n",
       "  <thead>\n",
       "    <tr style=\"text-align: right;\">\n",
       "      <th></th>\n",
       "      <th>summary</th>\n",
       "      <th>positives</th>\n",
       "      <th>negatives</th>\n",
       "      <th>score_1</th>\n",
       "      <th>score_2</th>\n",
       "      <th>score_3</th>\n",
       "      <th>score_4</th>\n",
       "      <th>score_5</th>\n",
       "      <th>score_6</th>\n",
       "      <th>overall</th>\n",
       "    </tr>\n",
       "  </thead>\n",
       "  <tbody>\n",
       "    <tr>\n",
       "      <th>0</th>\n",
       "      <td>best compani work</td>\n",
       "      <td>peopl smart friend</td>\n",
       "      <td>bureaucraci slow thing</td>\n",
       "      <td>4.0</td>\n",
       "      <td>5.0</td>\n",
       "      <td>5.0</td>\n",
       "      <td>4.0</td>\n",
       "      <td>5.0</td>\n",
       "      <td>0</td>\n",
       "      <td>5.0</td>\n",
       "    </tr>\n",
       "    <tr>\n",
       "      <th>1</th>\n",
       "      <td>move speed light burn inevit</td>\n",
       "      <td>food food food cafe main campus mtv alon mini ...</td>\n",
       "      <td>work life balanc balanc perk benefit illus kee...</td>\n",
       "      <td>2.0</td>\n",
       "      <td>3.0</td>\n",
       "      <td>3.0</td>\n",
       "      <td>5.0</td>\n",
       "      <td>3.0</td>\n",
       "      <td>2094</td>\n",
       "      <td>5.0</td>\n",
       "    </tr>\n",
       "  </tbody>\n",
       "</table>\n",
       "</div>"
      ],
      "text/plain": [
       "                        summary  \\\n",
       "0             best compani work   \n",
       "1  move speed light burn inevit   \n",
       "\n",
       "                                           positives  \\\n",
       "0                                 peopl smart friend   \n",
       "1  food food food cafe main campus mtv alon mini ...   \n",
       "\n",
       "                                           negatives  score_1  score_2  \\\n",
       "0                             bureaucraci slow thing      4.0      5.0   \n",
       "1  work life balanc balanc perk benefit illus kee...      2.0      3.0   \n",
       "\n",
       "   score_3  score_4  score_5  score_6  overall  \n",
       "0      5.0      4.0      5.0        0      5.0  \n",
       "1      3.0      5.0      3.0     2094      5.0  "
      ]
     },
     "execution_count": 130,
     "metadata": {},
     "output_type": "execute_result"
    }
   ],
   "source": [
    "# Feature Engineering\n",
    "from nltk.corpus import stopwords\n",
    "sw = stopwords.words(\"english\")\n",
    "import re\n",
    "from nltk.stem.snowball import SnowballStemmer,PorterStemmer\n",
    "import string\n",
    "def clean_text(text):\n",
    "    ## Remove puncuation\n",
    "    text = text.translate(string.punctuation)\n",
    "    ## Convert words to lower case and split them\n",
    "    text = text.lower().split()\n",
    "    ## Remove stop words\n",
    "    text = [w for w in text if not w in sw and len(w) >= 3]\n",
    "    text = \" \".join(text)\n",
    "    ## Clean the text\n",
    "    text = re.sub(r\"[^A-Za-z0-9^,!.\\/'+-=]\", \" \", text)\n",
    "    text = re.sub(r\"what's\", \"what is \", text)\n",
    "    text = re.sub(r\"\\'s\", \" \", text)\n",
    "    text = re.sub(r\"\\'ve\", \" have \", text)\n",
    "    text = re.sub(r\"n't\", \" not \", text)\n",
    "    text = re.sub(r\"i'm\", \"i am \", text)\n",
    "    text = re.sub(r\"\\'re\", \" are \", text)\n",
    "    text = re.sub(r\"\\'d\", \" would \", text)\n",
    "    text = re.sub(r\"\\'ll\", \" will \", text)\n",
    "    text = re.sub(r\",\", \" \", text)\n",
    "    text = re.sub(r\"\\.\", \" \", text)\n",
    "    text = re.sub(r\"!\", \" ! \", text)\n",
    "    text = re.sub(r\"\\/\", \" \", text)\n",
    "    text = re.sub(r\"\\^\", \" ^ \", text)\n",
    "    text = re.sub(r\"\\+\", \" + \", text)\n",
    "    text = re.sub(r\"\\-\", \" - \", text)\n",
    "    text = re.sub(r\"\\=\", \" = \", text)\n",
    "    text = re.sub(r\"'\", \" \", text)\n",
    "    text = re.sub(r\"(\\d+)(k)\", r\"\\g<1>000\", text)\n",
    "    text = re.sub(r\":\", \" : \", text)\n",
    "    text = re.sub(r\" e g \", \" eg \", text)\n",
    "    text = re.sub(r\" b g \", \" bg \", text)\n",
    "    text = re.sub(r\" u s \", \" american \", text)\n",
    "    text = re.sub(r\"\\0s\", \"0\", text)\n",
    "    text = re.sub(r\" 9 11 \", \"911\", text)\n",
    "    text = re.sub(r\"e - mail\", \"email\", text)\n",
    "    text = re.sub(r\"j k\", \"jk\", text)\n",
    "    text = re.sub(r\"\\s{2,}\", \" \", text)\n",
    "    ## Stemming\n",
    "    txt = text.split()\n",
    "    text = [i for i in txt if i.isalpha()]\n",
    "    stemmer = SnowballStemmer('english')\n",
    "    stemmed_words = [stemmer.stem(word) for word in text]\n",
    "    text = \" \".join(stemmed_words)\n",
    "    text=text.lower()\n",
    "    return text\n",
    "#summary=data['summary']\n",
    "#summary=summary.apply(clean_text)\n",
    "data['summary']=data['summary'].apply(clean_text)\n",
    "data['positives']=data['positives'].apply(clean_text)\n",
    "data['negatives']=data['negatives'].apply(clean_text)\n",
    "data.head(2)"
   ]
  },
  {
   "cell_type": "code",
   "execution_count": 139,
   "metadata": {},
   "outputs": [
    {
     "data": {
      "text/plain": [
       "0                                    best compani work\n",
       "1                         move speed light burn inevit\n",
       "2    great balanc big compani secur fun fast move p...\n",
       "3                   best place i have work also demand\n",
       "4                                         execel engin\n",
       "dtype: object"
      ]
     },
     "execution_count": 139,
     "metadata": {},
     "output_type": "execute_result"
    }
   ],
   "source": [
    "tf_train_data = pd.concat([data['summary'],data['positives'],data['negatives']])\n",
    "#tf_train_data = pd.concat([data['positives'],data['negatives']])\n",
    "tf_train_data.head()"
   ]
  },
  {
   "cell_type": "code",
   "execution_count": 133,
   "metadata": {},
   "outputs": [
    {
     "data": {
      "text/plain": [
       "TfidfVectorizer(analyzer='word', binary=False, decode_error='strict',\n",
       "        dtype=<class 'numpy.float64'>, encoding='utf-8', input='content',\n",
       "        lowercase=True, max_df=1.0, max_features=1000, min_df=3,\n",
       "        ngram_range=(1, 3), norm='l2', preprocessor=None, smooth_idf=1,\n",
       "        stop_words=None, strip_accents='unicode', sublinear_tf=1,\n",
       "        token_pattern='\\\\w{1,}', tokenizer=None, use_idf=1,\n",
       "        vocabulary=None)"
      ]
     },
     "execution_count": 133,
     "metadata": {},
     "output_type": "execute_result"
    }
   ],
   "source": [
    "from sklearn.feature_extraction.text import TfidfVectorizer\n",
    "tfv = TfidfVectorizer(min_df=3, max_features=1000,strip_accents='unicode', analyzer='word', token_pattern=r'\\w{1,}',ngram_range=(1, 3), use_idf=1, smooth_idf=1, sublinear_tf=1)\n",
    "tfv.fit(tf_train_data)"
   ]
  },
  {
   "cell_type": "code",
   "execution_count": 134,
   "metadata": {},
   "outputs": [],
   "source": [
    "desc1 = tfv.transform(list(data[\"summary\"]))\n",
    "desc2 = tfv.transform(list(data[\"positives\"]))\n",
    "desc3 = tfv.transform(list(data[\"negatives\"]))"
   ]
  },
  {
   "cell_type": "code",
   "execution_count": 135,
   "metadata": {},
   "outputs": [
    {
     "name": "stdout",
     "output_type": "stream",
     "text": [
      "30336\n",
      "30336\n",
      "30336\n"
     ]
    }
   ],
   "source": [
    "print (len(desc1.toarray()))\n",
    "print (len(desc2.toarray()))\n",
    "print (len(desc3.toarray()))"
   ]
  },
  {
   "cell_type": "code",
   "execution_count": 137,
   "metadata": {},
   "outputs": [],
   "source": [
    "from sklearn.decomposition import TruncatedSVD\n",
    "svd = TruncatedSVD(n_components=40)\n",
    "desc11 = svd.fit_transform(desc1)\n",
    "desc21 = svd.fit_transform(desc2)\n",
    "desc31 = svd.fit_transform(desc3)\n",
    "\n",
    "desc11 = pd.DataFrame(desc11,columns=['nlp_1_{}'.format(i) for i in range(40)])\n",
    "desc21 = pd.DataFrame(desc21,columns=['nlp_1_{}'.format(i) for i in range(40)])\n",
    "desc31 = pd.DataFrame(desc31,columns=['nlp_1_{}'.format(i) for i in range(40)])\n",
    "\n",
    "#desc11 = pd.DataFrame(desc11)\n",
    "#desc21 = pd.DataFrame(desc21)\n",
    "#desc31 = pd.DataFrame(desc31)\n",
    "\n",
    "\n",
    "final_df = pd.concat([data,desc11,desc21,desc31],axis=1, sort=False)\n",
    "#final_df = pd.concat([data,desc21,desc31],axis=1, sort=False)"
   ]
  },
  {
   "cell_type": "code",
   "execution_count": 140,
   "metadata": {},
   "outputs": [
    {
     "data": {
      "text/html": [
       "<div>\n",
       "<style scoped>\n",
       "    .dataframe tbody tr th:only-of-type {\n",
       "        vertical-align: middle;\n",
       "    }\n",
       "\n",
       "    .dataframe tbody tr th {\n",
       "        vertical-align: top;\n",
       "    }\n",
       "\n",
       "    .dataframe thead th {\n",
       "        text-align: right;\n",
       "    }\n",
       "</style>\n",
       "<table border=\"1\" class=\"dataframe\">\n",
       "  <thead>\n",
       "    <tr style=\"text-align: right;\">\n",
       "      <th></th>\n",
       "      <th>summary</th>\n",
       "      <th>positives</th>\n",
       "      <th>negatives</th>\n",
       "      <th>score_1</th>\n",
       "      <th>score_2</th>\n",
       "      <th>score_3</th>\n",
       "      <th>score_4</th>\n",
       "      <th>score_5</th>\n",
       "      <th>score_6</th>\n",
       "      <th>overall</th>\n",
       "      <th>...</th>\n",
       "      <th>nlp_1_30</th>\n",
       "      <th>nlp_1_31</th>\n",
       "      <th>nlp_1_32</th>\n",
       "      <th>nlp_1_33</th>\n",
       "      <th>nlp_1_34</th>\n",
       "      <th>nlp_1_35</th>\n",
       "      <th>nlp_1_36</th>\n",
       "      <th>nlp_1_37</th>\n",
       "      <th>nlp_1_38</th>\n",
       "      <th>nlp_1_39</th>\n",
       "    </tr>\n",
       "  </thead>\n",
       "  <tbody>\n",
       "    <tr>\n",
       "      <th>0</th>\n",
       "      <td>best compani work</td>\n",
       "      <td>peopl smart friend</td>\n",
       "      <td>bureaucraci slow thing</td>\n",
       "      <td>4.0</td>\n",
       "      <td>5.0</td>\n",
       "      <td>5.0</td>\n",
       "      <td>4.0</td>\n",
       "      <td>5.0</td>\n",
       "      <td>0</td>\n",
       "      <td>5.0</td>\n",
       "      <td>...</td>\n",
       "      <td>0.125454</td>\n",
       "      <td>-0.112908</td>\n",
       "      <td>0.003553</td>\n",
       "      <td>0.017763</td>\n",
       "      <td>0.087155</td>\n",
       "      <td>-0.007532</td>\n",
       "      <td>0.26091</td>\n",
       "      <td>0.012537</td>\n",
       "      <td>-0.156342</td>\n",
       "      <td>0.186754</td>\n",
       "    </tr>\n",
       "    <tr>\n",
       "      <th>1</th>\n",
       "      <td>move speed light burn inevit</td>\n",
       "      <td>food food food cafe main campus mtv alon mini ...</td>\n",
       "      <td>work life balanc balanc perk benefit illus kee...</td>\n",
       "      <td>2.0</td>\n",
       "      <td>3.0</td>\n",
       "      <td>3.0</td>\n",
       "      <td>5.0</td>\n",
       "      <td>3.0</td>\n",
       "      <td>2094</td>\n",
       "      <td>5.0</td>\n",
       "      <td>...</td>\n",
       "      <td>0.019885</td>\n",
       "      <td>0.024984</td>\n",
       "      <td>0.002274</td>\n",
       "      <td>0.064493</td>\n",
       "      <td>-0.018545</td>\n",
       "      <td>-0.010730</td>\n",
       "      <td>-0.08054</td>\n",
       "      <td>0.000355</td>\n",
       "      <td>-0.053892</td>\n",
       "      <td>0.042879</td>\n",
       "    </tr>\n",
       "  </tbody>\n",
       "</table>\n",
       "<p>2 rows × 130 columns</p>\n",
       "</div>"
      ],
      "text/plain": [
       "                        summary  \\\n",
       "0             best compani work   \n",
       "1  move speed light burn inevit   \n",
       "\n",
       "                                           positives  \\\n",
       "0                                 peopl smart friend   \n",
       "1  food food food cafe main campus mtv alon mini ...   \n",
       "\n",
       "                                           negatives  score_1  score_2  \\\n",
       "0                             bureaucraci slow thing      4.0      5.0   \n",
       "1  work life balanc balanc perk benefit illus kee...      2.0      3.0   \n",
       "\n",
       "   score_3  score_4  score_5  score_6  overall    ...     nlp_1_30  nlp_1_31  \\\n",
       "0      5.0      4.0      5.0        0      5.0    ...     0.125454 -0.112908   \n",
       "1      3.0      5.0      3.0     2094      5.0    ...     0.019885  0.024984   \n",
       "\n",
       "   nlp_1_32  nlp_1_33  nlp_1_34  nlp_1_35  nlp_1_36  nlp_1_37  nlp_1_38  \\\n",
       "0  0.003553  0.017763  0.087155 -0.007532   0.26091  0.012537 -0.156342   \n",
       "1  0.002274  0.064493 -0.018545 -0.010730  -0.08054  0.000355 -0.053892   \n",
       "\n",
       "   nlp_1_39  \n",
       "0  0.186754  \n",
       "1  0.042879  \n",
       "\n",
       "[2 rows x 130 columns]"
      ]
     },
     "execution_count": 140,
     "metadata": {},
     "output_type": "execute_result"
    }
   ],
   "source": [
    "#desc11 = pd.DataFrame(desc11.toarray(), columns=test_tfvec.get_feature_names())\n",
    "final_df.head(2)"
   ]
  },
  {
   "cell_type": "code",
   "execution_count": 141,
   "metadata": {},
   "outputs": [
    {
     "data": {
      "text/html": [
       "<div>\n",
       "<style scoped>\n",
       "    .dataframe tbody tr th:only-of-type {\n",
       "        vertical-align: middle;\n",
       "    }\n",
       "\n",
       "    .dataframe tbody tr th {\n",
       "        vertical-align: top;\n",
       "    }\n",
       "\n",
       "    .dataframe thead th {\n",
       "        text-align: right;\n",
       "    }\n",
       "</style>\n",
       "<table border=\"1\" class=\"dataframe\">\n",
       "  <thead>\n",
       "    <tr style=\"text-align: right;\">\n",
       "      <th></th>\n",
       "      <th>score_1</th>\n",
       "      <th>score_2</th>\n",
       "      <th>score_3</th>\n",
       "      <th>score_4</th>\n",
       "      <th>score_5</th>\n",
       "      <th>score_6</th>\n",
       "      <th>nlp_1_0</th>\n",
       "      <th>nlp_1_1</th>\n",
       "      <th>nlp_1_2</th>\n",
       "      <th>nlp_1_3</th>\n",
       "      <th>...</th>\n",
       "      <th>nlp_1_30</th>\n",
       "      <th>nlp_1_31</th>\n",
       "      <th>nlp_1_32</th>\n",
       "      <th>nlp_1_33</th>\n",
       "      <th>nlp_1_34</th>\n",
       "      <th>nlp_1_35</th>\n",
       "      <th>nlp_1_36</th>\n",
       "      <th>nlp_1_37</th>\n",
       "      <th>nlp_1_38</th>\n",
       "      <th>nlp_1_39</th>\n",
       "    </tr>\n",
       "  </thead>\n",
       "  <tbody>\n",
       "    <tr>\n",
       "      <th>0</th>\n",
       "      <td>4.0</td>\n",
       "      <td>5.0</td>\n",
       "      <td>5.0</td>\n",
       "      <td>4.0</td>\n",
       "      <td>5.0</td>\n",
       "      <td>0</td>\n",
       "      <td>0.187555</td>\n",
       "      <td>0.17126</td>\n",
       "      <td>0.097596</td>\n",
       "      <td>0.000501</td>\n",
       "      <td>...</td>\n",
       "      <td>0.125454</td>\n",
       "      <td>-0.112908</td>\n",
       "      <td>0.003553</td>\n",
       "      <td>0.017763</td>\n",
       "      <td>0.087155</td>\n",
       "      <td>-0.007532</td>\n",
       "      <td>0.26091</td>\n",
       "      <td>0.012537</td>\n",
       "      <td>-0.156342</td>\n",
       "      <td>0.186754</td>\n",
       "    </tr>\n",
       "  </tbody>\n",
       "</table>\n",
       "<p>1 rows × 126 columns</p>\n",
       "</div>"
      ],
      "text/plain": [
       "   score_1  score_2  score_3  score_4  score_5  score_6   nlp_1_0  nlp_1_1  \\\n",
       "0      4.0      5.0      5.0      4.0      5.0        0  0.187555  0.17126   \n",
       "\n",
       "    nlp_1_2   nlp_1_3    ...     nlp_1_30  nlp_1_31  nlp_1_32  nlp_1_33  \\\n",
       "0  0.097596  0.000501    ...     0.125454 -0.112908  0.003553  0.017763   \n",
       "\n",
       "   nlp_1_34  nlp_1_35  nlp_1_36  nlp_1_37  nlp_1_38  nlp_1_39  \n",
       "0  0.087155 -0.007532   0.26091  0.012537 -0.156342  0.186754  \n",
       "\n",
       "[1 rows x 126 columns]"
      ]
     },
     "execution_count": 141,
     "metadata": {},
     "output_type": "execute_result"
    }
   ],
   "source": [
    "Y = final_df[\"overall\"]\n",
    "final_df = final_df.drop([\"summary\",\"positives\", \"negatives\", \"overall\"], axis =1)\n",
    "#final_df = final_df.drop([\"positives\", \"negatives\", \"overall\"], axis =1)\n",
    "final_df.head(1)"
   ]
  },
  {
   "cell_type": "code",
   "execution_count": 142,
   "metadata": {},
   "outputs": [],
   "source": [
    "from sklearn.model_selection import train_test_split\n",
    "X_train, X_test, Y_train, Y_test = train_test_split(final_df, Y, test_size=0.25)"
   ]
  },
  {
   "cell_type": "code",
   "execution_count": 143,
   "metadata": {},
   "outputs": [
    {
     "name": "stderr",
     "output_type": "stream",
     "text": [
      "C:\\ProgramData\\Anaconda3\\lib\\site-packages\\sklearn\\linear_model\\logistic.py:758: ConvergenceWarning: lbfgs failed to converge. Increase the number of iterations.\n",
      "  \"of iterations.\", ConvergenceWarning)\n"
     ]
    },
    {
     "data": {
      "text/plain": [
       "0.39609704641350213"
      ]
     },
     "execution_count": 143,
     "metadata": {},
     "output_type": "execute_result"
    }
   ],
   "source": [
    "##Logistic Regression\n",
    "from sklearn.linear_model import LogisticRegression\n",
    "clf = LogisticRegression(random_state=0, solver='lbfgs', C=1,multi_class='multinomial').fit(X_train, Y_train)\n",
    "Y_pred = clf.predict(X_test)\n",
    "from sklearn.metrics import confusion_matrix\n",
    "cm = confusion_matrix(Y_test, Y_pred)\n",
    "from sklearn.metrics import accuracy_score\n",
    "acc_lr = accuracy_score(Y_test, Y_pred)\n",
    "acc_lr"
   ]
  },
  {
   "cell_type": "code",
   "execution_count": 144,
   "metadata": {},
   "outputs": [
    {
     "data": {
      "text/plain": [
       "array([3., 4., 3., ..., 3., 4., 2.])"
      ]
     },
     "execution_count": 144,
     "metadata": {},
     "output_type": "execute_result"
    }
   ],
   "source": [
    "Y_pred"
   ]
  },
  {
   "cell_type": "code",
   "execution_count": 145,
   "metadata": {},
   "outputs": [
    {
     "data": {
      "text/plain": [
       "0.3367616033755274"
      ]
     },
     "execution_count": 145,
     "metadata": {},
     "output_type": "execute_result"
    }
   ],
   "source": [
    "##Decision Tree\n",
    "from sklearn.tree import DecisionTreeClassifier\n",
    "clf = DecisionTreeClassifier(random_state=0).fit(X_train, Y_train)\n",
    "Y_pred = clf.predict(X_test)\n",
    "acc_dt = accuracy_score(Y_test, Y_pred)\n",
    "acc_dt"
   ]
  },
  {
   "cell_type": "code",
   "execution_count": 146,
   "metadata": {},
   "outputs": [
    {
     "data": {
      "text/plain": [
       "array([2., 3., 3., ..., 4., 4., 3.])"
      ]
     },
     "execution_count": 146,
     "metadata": {},
     "output_type": "execute_result"
    }
   ],
   "source": [
    "Y_pred"
   ]
  },
  {
   "cell_type": "code",
   "execution_count": 147,
   "metadata": {},
   "outputs": [
    {
     "data": {
      "text/plain": [
       "0.38739451476793246"
      ]
     },
     "execution_count": 147,
     "metadata": {},
     "output_type": "execute_result"
    }
   ],
   "source": [
    "#Random Forest\n",
    "from sklearn.ensemble import RandomForestClassifier\n",
    "rfc=RandomForestClassifier(n_estimators=400,max_depth=2)\n",
    "rfc.fit(X_train,Y_train)\n",
    "Y_pred = rfc.predict(X_test)\n",
    "acc_dt = accuracy_score(Y_test, Y_pred)\n",
    "acc_dt"
   ]
  },
  {
   "cell_type": "code",
   "execution_count": 148,
   "metadata": {},
   "outputs": [
    {
     "name": "stderr",
     "output_type": "stream",
     "text": [
      "C:\\ProgramData\\Anaconda3\\lib\\site-packages\\sklearn\\svm\\base.py:196: FutureWarning: The default value of gamma will change from 'auto' to 'scale' in version 0.22 to account better for unscaled features. Set gamma explicitly to 'auto' or 'scale' to avoid this warning.\n",
      "  \"avoid this warning.\", FutureWarning)\n"
     ]
    },
    {
     "data": {
      "text/plain": [
       "0.38739451476793246"
      ]
     },
     "execution_count": 148,
     "metadata": {},
     "output_type": "execute_result"
    }
   ],
   "source": [
    "##SVC \n",
    "from sklearn.svm import SVC\n",
    "sv=SVC()\n",
    "sv.fit(X_train,Y_train)\n",
    "y_pred=sv.predict(X_test)\n",
    "accuracy_score(Y_test, Y_pred)"
   ]
  },
  {
   "cell_type": "code",
   "execution_count": 116,
   "metadata": {},
   "outputs": [
    {
     "data": {
      "text/plain": [
       "'\\nfrom xgboost import XGBClassifier\\nxgb=XGBClassifier()\\nxgb.fit(X_train,Y_train)\\nY_pred = xgb.predict(X_test)\\nacc_dt = accuracy_score(Y_test, Y_pred)\\nacc_dt\\n\\nacc=[]\\nlr = [0.08, 0.2, 0.4]\\nestimator =[ 300,400, 500]\\nfor a in lr:\\n    for e in estimator:\\n        xgb = XGBClassifier(learning_rate=a,n_estimators=e, booster=\\'dart\\')\\n        xgb.fit(X_train, Y_train)\\n        Y_pred_xgb = xgb.predict(X_test)\\n        Y_pred_xgb = Y_pred_xgb.tolist()\\n        accr = accuracy_score(Y_test, Y_pred_xgb)\\n        print(\"Acc for lr & estimator\", a,e, accr)\\n        acc.append(accr)  \\n'"
      ]
     },
     "execution_count": 116,
     "metadata": {},
     "output_type": "execute_result"
    }
   ],
   "source": [
    "'''\n",
    "from xgboost import XGBClassifier\n",
    "xgb=XGBClassifier()\n",
    "xgb.fit(X_train,Y_train)\n",
    "Y_pred = xgb.predict(X_test)\n",
    "acc_dt = accuracy_score(Y_test, Y_pred)\n",
    "acc_dt\n",
    "\n",
    "acc=[]\n",
    "lr = [0.08, 0.2, 0.4]\n",
    "estimator =[ 300,400, 500]\n",
    "for a in lr:\n",
    "    for e in estimator:\n",
    "        xgb = XGBClassifier(learning_rate=a,n_estimators=e, booster='dart')\n",
    "        xgb.fit(X_train, Y_train)\n",
    "        Y_pred_xgb = xgb.predict(X_test)\n",
    "        Y_pred_xgb = Y_pred_xgb.tolist()\n",
    "        accr = accuracy_score(Y_test, Y_pred_xgb)\n",
    "        print(\"Acc for lr & estimator\", a,e, accr)\n",
    "        acc.append(accr)  \n",
    "'''"
   ]
  },
  {
   "cell_type": "code",
   "execution_count": 151,
   "metadata": {},
   "outputs": [
    {
     "name": "stderr",
     "output_type": "stream",
     "text": [
      "C:\\ProgramData\\Anaconda3\\lib\\site-packages\\sklearn\\linear_model\\stochastic_gradient.py:166: FutureWarning: max_iter and tol parameters have been added in SGDClassifier in 0.19. If both are left unset, they default to max_iter=5 and tol=None. If tol is not None, max_iter defaults to max_iter=1000. From 0.21, default max_iter will be 1000, and default tol will be 1e-3.\n",
      "  FutureWarning)\n"
     ]
    },
    {
     "data": {
      "text/plain": [
       "0.38739451476793246"
      ]
     },
     "execution_count": 151,
     "metadata": {},
     "output_type": "execute_result"
    }
   ],
   "source": [
    "from sklearn.linear_model import SGDClassifier\n",
    "sgd=SGDClassifier()\n",
    "sgd.fit(X_train,Y_train)\n",
    "y_pred=sv.predict(X_test)\n",
    "accuracy_score(Y_test, Y_pred)"
   ]
  },
  {
   "cell_type": "code",
   "execution_count": 150,
   "metadata": {},
   "outputs": [
    {
     "name": "stderr",
     "output_type": "stream",
     "text": [
      "C:\\ProgramData\\Anaconda3\\lib\\site-packages\\sklearn\\linear_model\\stochastic_gradient.py:166: FutureWarning: max_iter and tol parameters have been added in SGDClassifier in 0.19. If both are left unset, they default to max_iter=5 and tol=None. If tol is not None, max_iter defaults to max_iter=1000. From 0.21, default max_iter will be 1000, and default tol will be 1e-3.\n",
      "  FutureWarning)\n"
     ]
    },
    {
     "data": {
      "text/plain": [
       "0.38739451476793246"
      ]
     },
     "execution_count": 150,
     "metadata": {},
     "output_type": "execute_result"
    }
   ],
   "source": [
    "from sklearn.linear_model import RidgeClassifier\n",
    "rc=SGDClassifier()\n",
    "rc.fit(X_train,Y_train)\n",
    "y_pred=rc.predict(X_test)\n",
    "accuracy_score(Y_test, Y_pred)"
   ]
  },
  {
   "cell_type": "code",
   "execution_count": 149,
   "metadata": {},
   "outputs": [
    {
     "data": {
      "text/plain": [
       "\"\\nfrom catboost import CatBoostClassifier\\nmodel = CatBoostClassifier(iterations=200,learning_rate=1,loss_function='MultiClass',depth = 2)# loss_function='CrossEntropy')\\nmodel.fit(X_train, Y_train,eval_set=(X_test, Y_test),verbose=False)\\nprint('Model is fitted: ' + str(model.is_fitted()))\\nprint('Model params:')\\nprint(model.get_params())\\n\""
      ]
     },
     "execution_count": 149,
     "metadata": {},
     "output_type": "execute_result"
    }
   ],
   "source": [
    "'''\n",
    "from catboost import CatBoostClassifier\n",
    "model = CatBoostClassifier(iterations=200,learning_rate=1,loss_function='MultiClass',depth = 2)# loss_function='CrossEntropy')\n",
    "model.fit(X_train, Y_train,eval_set=(X_test, Y_test),verbose=False)\n",
    "print('Model is fitted: ' + str(model.is_fitted()))\n",
    "print('Model params:')\n",
    "print(model.get_params())\n",
    "'''"
   ]
  },
  {
   "cell_type": "code",
   "execution_count": 153,
   "metadata": {},
   "outputs": [
    {
     "data": {
      "text/html": [
       "<div>\n",
       "<style scoped>\n",
       "    .dataframe tbody tr th:only-of-type {\n",
       "        vertical-align: middle;\n",
       "    }\n",
       "\n",
       "    .dataframe tbody tr th {\n",
       "        vertical-align: top;\n",
       "    }\n",
       "\n",
       "    .dataframe thead th {\n",
       "        text-align: right;\n",
       "    }\n",
       "</style>\n",
       "<table border=\"1\" class=\"dataframe\">\n",
       "  <thead>\n",
       "    <tr style=\"text-align: right;\">\n",
       "      <th></th>\n",
       "      <th>summary</th>\n",
       "      <th>positives</th>\n",
       "      <th>negatives</th>\n",
       "      <th>score_1</th>\n",
       "      <th>score_2</th>\n",
       "      <th>score_3</th>\n",
       "      <th>score_4</th>\n",
       "      <th>score_5</th>\n",
       "      <th>score_6</th>\n",
       "    </tr>\n",
       "  </thead>\n",
       "  <tbody>\n",
       "    <tr>\n",
       "      <th>0</th>\n",
       "      <td>Unique, one of a kind dream job</td>\n",
       "      <td>Google is a world of its own. At every other c...</td>\n",
       "      <td>If you don't work in MTV (HQ), you will be giv...</td>\n",
       "      <td>5</td>\n",
       "      <td>5</td>\n",
       "      <td>5</td>\n",
       "      <td>5</td>\n",
       "      <td>5</td>\n",
       "      <td>49</td>\n",
       "    </tr>\n",
       "    <tr>\n",
       "      <th>1</th>\n",
       "      <td>NICE working in GOOGLE as an INTERN</td>\n",
       "      <td>People are not that busy, so they are nice to ...</td>\n",
       "      <td>Food is not good as I expected. People said it...</td>\n",
       "      <td>4</td>\n",
       "      <td>4</td>\n",
       "      <td>4</td>\n",
       "      <td>5</td>\n",
       "      <td>4</td>\n",
       "      <td>1</td>\n",
       "    </tr>\n",
       "  </tbody>\n",
       "</table>\n",
       "</div>"
      ],
      "text/plain": [
       "                               summary  \\\n",
       "0      Unique, one of a kind dream job   \n",
       "1  NICE working in GOOGLE as an INTERN   \n",
       "\n",
       "                                           positives  \\\n",
       "0  Google is a world of its own. At every other c...   \n",
       "1  People are not that busy, so they are nice to ...   \n",
       "\n",
       "                                           negatives  score_1  score_2  \\\n",
       "0  If you don't work in MTV (HQ), you will be giv...        5        5   \n",
       "1  Food is not good as I expected. People said it...        4        4   \n",
       "\n",
       "   score_3  score_4  score_5  score_6  \n",
       "0        5        5        5       49  \n",
       "1        4        5        4        1  "
      ]
     },
     "execution_count": 153,
     "metadata": {},
     "output_type": "execute_result"
    }
   ],
   "source": [
    "test=pd.read_csv('test.csv')\n",
    "test=test.drop(['ID','Place','location','date','status','job_title','advice_to_mgmt'],axis=1)\n",
    "test.head(2)"
   ]
  },
  {
   "cell_type": "code",
   "execution_count": 155,
   "metadata": {},
   "outputs": [],
   "source": [
    "test['summary']=test['summary'].fillna('Great company')\n",
    "test['score_1']=test['score_1'].fillna(3.0)\n",
    "test['score_2']=test['score_2'].fillna(3.0)\n",
    "test['score_3']=test['score_3'].fillna(3.0)\n",
    "test['score_4']=test['score_4'].fillna(3.0)\n",
    "test['score_5']=test['score_5'].fillna(3.0)\n",
    "test['score_6']=test['score_6'].fillna(3.0)"
   ]
  },
  {
   "cell_type": "code",
   "execution_count": 157,
   "metadata": {},
   "outputs": [
    {
     "name": "stdout",
     "output_type": "stream",
     "text": [
      "0\n",
      "0\n",
      "1\n",
      "0\n",
      "0\n",
      "0\n",
      "0\n",
      "0\n",
      "0\n"
     ]
    }
   ],
   "source": [
    "print (test.summary.isnull().sum())        # 0 null entry\n",
    "print (test.positives.isnull().sum())      # 0 null\n",
    "print (test.negatives.isnull().sum())      # 1 null\n",
    "print (test.score_1.isnull().sum())        # 0 null entry\n",
    "print (test.score_2.isnull().sum())        # 0 null entry\n",
    "print (test.score_3.isnull().sum())        # 0 null entry\n",
    "print (test.score_4.isnull().sum())        # 0 null entry\n",
    "print (test.score_5.isnull().sum())        # 0 null entry\n",
    "print (test.score_6.isnull().sum())        # no null"
   ]
  },
  {
   "cell_type": "code",
   "execution_count": 164,
   "metadata": {},
   "outputs": [],
   "source": [
    "#test.negatives.value_counts()\n",
    "test['negatives']=test['negatives'].fillna('None that I can think of.')  ##Most common"
   ]
  },
  {
   "cell_type": "code",
   "execution_count": 165,
   "metadata": {},
   "outputs": [],
   "source": [
    "test[\"summary\"] = test[\"summary\"].apply(clean_text)\n",
    "test[\"positives\"] = test[\"positives\"].apply(clean_text)\n",
    "test[\"negatives\"] = test[\"negatives\"].apply(clean_text)"
   ]
  },
  {
   "cell_type": "code",
   "execution_count": 174,
   "metadata": {},
   "outputs": [],
   "source": [
    "desc1 = tfv.transform(list(test[\"summary\"]))\n",
    "desc2 = tfv.transform(list(test[\"positives\"]))\n",
    "desc3 = tfv.transform(list(test[\"negatives\"]))\n",
    "\n",
    "desc1 = svd.fit_transform(desc1)\n",
    "desc2 = svd.fit_transform(desc2)\n",
    "desc3 = svd.fit_transform(desc3)\n",
    "\n",
    "desc1 = pd.DataFrame(desc1, columns=['nlp_1_{}'.format(i) for i in range(40)])\n",
    "desc2 = pd.DataFrame(desc2, columns=['nlp_2_{}'.format(i) for i in range(40)])\n",
    "desc3 = pd.DataFrame(desc3, columns=['nlp_3_{}'.format(i) for i in range(40)])\n",
    "\n",
    "final_df_test = pd.concat([test,desc1,desc2,desc3],axis=1, sort=False)"
   ]
  },
  {
   "cell_type": "code",
   "execution_count": 175,
   "metadata": {},
   "outputs": [
    {
     "data": {
      "text/html": [
       "<div>\n",
       "<style scoped>\n",
       "    .dataframe tbody tr th:only-of-type {\n",
       "        vertical-align: middle;\n",
       "    }\n",
       "\n",
       "    .dataframe tbody tr th {\n",
       "        vertical-align: top;\n",
       "    }\n",
       "\n",
       "    .dataframe thead th {\n",
       "        text-align: right;\n",
       "    }\n",
       "</style>\n",
       "<table border=\"1\" class=\"dataframe\">\n",
       "  <thead>\n",
       "    <tr style=\"text-align: right;\">\n",
       "      <th></th>\n",
       "      <th>summary</th>\n",
       "      <th>positives</th>\n",
       "      <th>negatives</th>\n",
       "      <th>score_1</th>\n",
       "      <th>score_2</th>\n",
       "      <th>score_3</th>\n",
       "      <th>score_4</th>\n",
       "      <th>score_5</th>\n",
       "      <th>score_6</th>\n",
       "      <th>nlp_1_0</th>\n",
       "      <th>...</th>\n",
       "      <th>nlp_3_30</th>\n",
       "      <th>nlp_3_31</th>\n",
       "      <th>nlp_3_32</th>\n",
       "      <th>nlp_3_33</th>\n",
       "      <th>nlp_3_34</th>\n",
       "      <th>nlp_3_35</th>\n",
       "      <th>nlp_3_36</th>\n",
       "      <th>nlp_3_37</th>\n",
       "      <th>nlp_3_38</th>\n",
       "      <th>nlp_3_39</th>\n",
       "    </tr>\n",
       "  </thead>\n",
       "  <tbody>\n",
       "    <tr>\n",
       "      <th>0</th>\n",
       "      <td>uniqu one kind dream job</td>\n",
       "      <td>googl world own everi compani lot peopl seriou...</td>\n",
       "      <td>work mtv hq given work howev passion want adva...</td>\n",
       "      <td>5</td>\n",
       "      <td>5</td>\n",
       "      <td>5</td>\n",
       "      <td>5</td>\n",
       "      <td>5</td>\n",
       "      <td>49</td>\n",
       "      <td>0.013881</td>\n",
       "      <td>...</td>\n",
       "      <td>0.005003</td>\n",
       "      <td>0.023659</td>\n",
       "      <td>0.028894</td>\n",
       "      <td>-0.027254</td>\n",
       "      <td>0.067287</td>\n",
       "      <td>0.049028</td>\n",
       "      <td>-0.062256</td>\n",
       "      <td>-0.033575</td>\n",
       "      <td>0.055727</td>\n",
       "      <td>0.013482</td>\n",
       "    </tr>\n",
       "  </tbody>\n",
       "</table>\n",
       "<p>1 rows × 129 columns</p>\n",
       "</div>"
      ],
      "text/plain": [
       "                    summary  \\\n",
       "0  uniqu one kind dream job   \n",
       "\n",
       "                                           positives  \\\n",
       "0  googl world own everi compani lot peopl seriou...   \n",
       "\n",
       "                                           negatives  score_1  score_2  \\\n",
       "0  work mtv hq given work howev passion want adva...        5        5   \n",
       "\n",
       "   score_3  score_4  score_5  score_6   nlp_1_0    ...     nlp_3_30  nlp_3_31  \\\n",
       "0        5        5        5       49  0.013881    ...     0.005003  0.023659   \n",
       "\n",
       "   nlp_3_32  nlp_3_33  nlp_3_34  nlp_3_35  nlp_3_36  nlp_3_37  nlp_3_38  \\\n",
       "0  0.028894 -0.027254  0.067287  0.049028 -0.062256 -0.033575  0.055727   \n",
       "\n",
       "   nlp_3_39  \n",
       "0  0.013482  \n",
       "\n",
       "[1 rows x 129 columns]"
      ]
     },
     "execution_count": 175,
     "metadata": {},
     "output_type": "execute_result"
    }
   ],
   "source": [
    "final_df_test.head(1)"
   ]
  },
  {
   "cell_type": "code",
   "execution_count": 176,
   "metadata": {},
   "outputs": [
    {
     "data": {
      "text/plain": [
       "(29272, 126)"
      ]
     },
     "execution_count": 176,
     "metadata": {},
     "output_type": "execute_result"
    }
   ],
   "source": [
    "final_df_test = final_df_test.drop([\"summary\", \"positives\", \"negatives\"], axis=1)\n",
    "final_df_test.shape"
   ]
  },
  {
   "cell_type": "code",
   "execution_count": 177,
   "metadata": {},
   "outputs": [],
   "source": [
    "test_pred= clf.predict(final_df_test)"
   ]
  },
  {
   "cell_type": "code",
   "execution_count": 179,
   "metadata": {},
   "outputs": [],
   "source": [
    "test_df=pd.read_csv('\train.csv')"
   ]
  },
  {
   "cell_type": "code",
   "execution_count": 180,
   "metadata": {},
   "outputs": [],
   "source": [
    "test_pred = test_pred.tolist()\n",
    "final_submission=pd.DataFrame({'overall':test_pred})\n",
    "final_submission.insert(loc=0,column='ID',value=test_df[\"ID\"])"
   ]
  },
  {
   "cell_type": "code",
   "execution_count": 181,
   "metadata": {},
   "outputs": [],
   "source": [
    "final_submission.to_csv('submission_final.csv',index=False)"
   ]
  }
 ],
 "metadata": {
  "kernelspec": {
   "display_name": "Python 3",
   "language": "python",
   "name": "python3"
  },
  "language_info": {
   "codemirror_mode": {
    "name": "ipython",
    "version": 3
   },
   "file_extension": ".py",
   "mimetype": "text/x-python",
   "name": "python",
   "nbconvert_exporter": "python",
   "pygments_lexer": "ipython3",
   "version": "3.6.7"
  }
 },
 "nbformat": 4,
 "nbformat_minor": 2
}
